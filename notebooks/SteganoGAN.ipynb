{
 "cells": [
  {
   "cell_type": "code",
   "execution_count": 1,
   "metadata": {},
   "outputs": [
    {
     "name": "stdout",
     "output_type": "stream",
     "text": [
      "# conda environments:\r\n",
      "#\r\n",
      "base                     /mnt/data/hannan/miniconda3\r\n",
      "contrastive              /mnt/data/hannan/miniconda3/envs/contrastive\r\n",
      "deit                     /mnt/data/hannan/miniconda3/envs/deit\r\n",
      "myenvi                *  /mnt/data/hannan/miniconda3/envs/myenvi\r\n",
      "steganogan               /mnt/data/hannan/miniconda3/envs/steganogan\r\n",
      "\r\n"
     ]
    }
   ],
   "source": [
    "!conda env list"
   ]
  },
  {
   "cell_type": "code",
   "execution_count": 2,
   "metadata": {},
   "outputs": [
    {
     "name": "stdout",
     "output_type": "stream",
     "text": [
      "/mnt/data/hannan/alaska/notebooks\r\n"
     ]
    }
   ],
   "source": [
    "!pwd"
   ]
  },
  {
   "cell_type": "code",
   "execution_count": 3,
   "metadata": {},
   "outputs": [],
   "source": [
    "import sys\n",
    "sys.path.insert(0, \"..\")\n",
    "import os\n",
    "os.chdir(\"..\")"
   ]
  },
  {
   "cell_type": "code",
   "execution_count": 4,
   "metadata": {},
   "outputs": [],
   "source": [
    "import steganogan"
   ]
  },
  {
   "cell_type": "code",
   "execution_count": 5,
   "metadata": {
    "jupyter": {
     "outputs_hidden": true
    }
   },
   "outputs": [
    {
     "name": "stderr",
     "output_type": "stream",
     "text": [
      "/mnt/data/hannan/miniconda3/envs/myenvi/lib/python3.6/site-packages/torch/serialization.py:434: SourceChangeWarning: source code of class 'steganogan.decoders.DenseDecoder' has changed. you can retrieve the original source code by accessing the object's source attribute or set `torch.nn.Module.dump_patches = True` and use the patch tool to revert the changes.\n",
      "  warnings.warn(msg, SourceChangeWarning)\n",
      "/mnt/data/hannan/miniconda3/envs/myenvi/lib/python3.6/site-packages/torch/serialization.py:434: SourceChangeWarning: source code of class 'steganogan.critics.BasicCritic' has changed. you can retrieve the original source code by accessing the object's source attribute or set `torch.nn.Module.dump_patches = True` and use the patch tool to revert the changes.\n",
      "  warnings.warn(msg, SourceChangeWarning)\n"
     ]
    }
   ],
   "source": [
    "from steganogan import SteganoGAN\n",
    "steganogan = SteganoGAN.load(architecture='dense')"
   ]
  },
  {
   "cell_type": "code",
   "execution_count": 6,
   "metadata": {},
   "outputs": [
    {
     "ename": "ModuleNotFoundError",
     "evalue": "No module named 'matplotlib'",
     "output_type": "error",
     "traceback": [
      "\u001b[0;31m---------------------------------------------------------------------------\u001b[0m",
      "\u001b[0;31mModuleNotFoundError\u001b[0m                       Traceback (most recent call last)",
      "\u001b[0;32m<ipython-input-6-5ae13548d1f6>\u001b[0m in \u001b[0;36m<module>\u001b[0;34m\u001b[0m\n\u001b[0;32m----> 1\u001b[0;31m \u001b[0;32mimport\u001b[0m \u001b[0mmatplotlib\u001b[0m\u001b[0;34m.\u001b[0m\u001b[0mpyplot\u001b[0m \u001b[0;32mas\u001b[0m \u001b[0mplt\u001b[0m\u001b[0;34m\u001b[0m\u001b[0;34m\u001b[0m\u001b[0m\n\u001b[0m\u001b[1;32m      2\u001b[0m \u001b[0;32mimport\u001b[0m \u001b[0mmatplotlib\u001b[0m\u001b[0;34m.\u001b[0m\u001b[0mimage\u001b[0m \u001b[0;32mas\u001b[0m \u001b[0mmpimg\u001b[0m\u001b[0;34m\u001b[0m\u001b[0;34m\u001b[0m\u001b[0m\n\u001b[1;32m      3\u001b[0m \u001b[0mplt\u001b[0m\u001b[0;34m.\u001b[0m\u001b[0mimshow\u001b[0m\u001b[0;34m(\u001b[0m\u001b[0mmpimg\u001b[0m\u001b[0;34m.\u001b[0m\u001b[0mimread\u001b[0m\u001b[0;34m(\u001b[0m\u001b[0;34m'./alaska2-image-steganalysis/Cover/00001.jpg'\u001b[0m\u001b[0;34m)\u001b[0m\u001b[0;34m)\u001b[0m\u001b[0;34m\u001b[0m\u001b[0;34m\u001b[0m\u001b[0m\n",
      "\u001b[0;31mModuleNotFoundError\u001b[0m: No module named 'matplotlib'"
     ]
    }
   ],
   "source": [
    "import matplotlib.pyplot as plt\n",
    "import matplotlib.image as mpimg\n",
    "plt.imshow(mpimg.imread('./alaska2-image-steganalysis/Cover/00001.jpg'))"
   ]
  },
  {
   "cell_type": "code",
   "execution_count": null,
   "metadata": {},
   "outputs": [],
   "source": [
    "!ls"
   ]
  },
  {
   "cell_type": "code",
   "execution_count": null,
   "metadata": {},
   "outputs": [],
   "source": [
    "steganogan.encode('alaska2-image-steganalysis/Cover/00005.jpg', 'alaska2-image-steganalysis/00005.png', 'This is a super secret message!')"
   ]
  },
  {
   "cell_type": "code",
   "execution_count": null,
   "metadata": {},
   "outputs": [],
   "source": [
    "try:\n",
    "    secret = steganogan.decode('alaska2-image-steganalysis/SteganoGAN/00002.png')\n",
    "except ValueError as ve:\n",
    "    secret = ve\n",
    "secret"
   ]
  },
  {
   "cell_type": "code",
   "execution_count": null,
   "metadata": {},
   "outputs": [],
   "source": [
    "try:\n",
    "    secret = steganogan.decode('alaska2-image-steganalysis/SteganoGAN/00005.png')\n",
    "except ValueError as ve:\n",
    "    secret = str(ve)\n",
    "secret"
   ]
  },
  {
   "cell_type": "code",
   "execution_count": null,
   "metadata": {},
   "outputs": [],
   "source": [
    "!ls"
   ]
  },
  {
   "cell_type": "code",
   "execution_count": null,
   "metadata": {},
   "outputs": [],
   "source": [
    "import random\n",
    "import string\n",
    "\n",
    "def get_random_alphanumeric_string(length):\n",
    "    letters_and_digits = string.ascii_letters + string.digits\n",
    "    result_str = ''.join((random.choice(letters_and_digits) for i in range(length)))\n",
    "#     print(\"Random alphanumeric String is:\", result_str)\n",
    "    return result_str"
   ]
  },
  {
   "cell_type": "markdown",
   "metadata": {},
   "source": [
    "### Encode Secret"
   ]
  },
  {
   "cell_type": "code",
   "execution_count": null,
   "metadata": {},
   "outputs": [],
   "source": [
    "import os\n",
    "i = 0\n",
    "for filename in sorted(os.listdir('alaska2-image-steganalysis/Cover/')):\n",
    "    if i==200:\n",
    "        break\n",
    "    if i%100==0:\n",
    "        print(filename)\n",
    "    i = i + 1\n",
    "    steganogan.encode(f'alaska2-image-steganalysis/Cover/{filename}',\n",
    "                      f\"alaska2-image-steganalysis/SteganoGAN/{filename.replace('jpg', 'png')}\",\n",
    "                      get_random_alphanumeric_string(random.randint(10, 50)))"
   ]
  },
  {
   "cell_type": "markdown",
   "metadata": {},
   "source": [
    "### Decode secret"
   ]
  },
  {
   "cell_type": "code",
   "execution_count": 7,
   "metadata": {},
   "outputs": [
    {
     "name": "stdout",
     "output_type": "stream",
     "text": [
      "alaska2-image-steganalysis/SteganoGAN_Attk/00742.png\n",
      "00742.png ciZA9Lgt8odZwdPqXGoP2RsX84\n",
      "00742_BIM.png Failed to find message.\n",
      "00742_CW.png ciZA9Lgt8odZwdPqXGoP2RsX84\n",
      "00742_FFGSM.png Failed to find message.\n",
      "00742_FGSM.png Failed to find message.\n",
      "00742_MIFGSM.png Failed to find message.\n",
      "00742_PGD.png Failed to find message.\n",
      "00742_RFGSM.png Failed to find message.\n",
      "00742_TPGD.png Failed to find message.\n",
      "01340.png CKWVUI7lmEaU2fTyQHypkcjYTkoK\n"
     ]
    },
    {
     "data": {
      "text/plain": [
       "(['00742.png',\n",
       "  '00742_BIM.png',\n",
       "  '00742_CW.png',\n",
       "  '00742_FFGSM.png',\n",
       "  '00742_FGSM.png',\n",
       "  '00742_MIFGSM.png',\n",
       "  '00742_PGD.png',\n",
       "  '00742_RFGSM.png',\n",
       "  '00742_TPGD.png',\n",
       "  '01340.png'],\n",
       " ['ciZA9Lgt8odZwdPqXGoP2RsX84',\n",
       "  ValueError('Failed to find message.'),\n",
       "  'ciZA9Lgt8odZwdPqXGoP2RsX84',\n",
       "  ValueError('Failed to find message.'),\n",
       "  ValueError('Failed to find message.'),\n",
       "  ValueError('Failed to find message.'),\n",
       "  ValueError('Failed to find message.'),\n",
       "  ValueError('Failed to find message.'),\n",
       "  ValueError('Failed to find message.'),\n",
       "  'CKWVUI7lmEaU2fTyQHypkcjYTkoK'])"
      ]
     },
     "execution_count": 7,
     "metadata": {},
     "output_type": "execute_result"
    }
   ],
   "source": [
    "import glob\n",
    "names = []\n",
    "secrets = []\n",
    "import os\n",
    "i = 0\n",
    "for filename in sorted(glob.glob('alaska2-image-steganalysis/SteganoGAN_Attk/*.png')):\n",
    "    if i==10:\n",
    "        break\n",
    "    if i%10==0:\n",
    "        print(filename)\n",
    "    i = i + 1\n",
    "    \n",
    "    try:\n",
    "        secret = steganogan.decode(filename)\n",
    "    except ValueError as ve:\n",
    "        secret = ve\n",
    "    print(filename.split('/')[-1], secret)\n",
    "    names.append(filename.split('/')[-1])\n",
    "    secrets.append(secret)\n",
    "names, secrets"
   ]
  },
  {
   "cell_type": "code",
   "execution_count": 21,
   "metadata": {},
   "outputs": [],
   "source": [
    "img_names, img_attk = [], []\n",
    "for name in names:\n",
    "    split = name.split('.')[0].split('_')\n",
    "    if len(split)==1:\n",
    "        img_names.append(split[0])\n",
    "        img_attk.append('None')\n",
    "    else:\n",
    "        img_names.append(name.split('.')[0].split('_')[0] )\n",
    "        img_attk.append(name.split('.')[0].split('_')[1] )"
   ]
  },
  {
   "cell_type": "code",
   "execution_count": 23,
   "metadata": {},
   "outputs": [],
   "source": [
    "import pandas as pd\n",
    "data = {'names': img_names, 'attk':img_attk, 'secrets': secrets}\n",
    "data = pd.DataFrame.from_dict(data)\n",
    "data\n",
    "data.to_csv('Evaluation/secrets.csv', index=False)  "
   ]
  }
 ],
 "metadata": {
  "kernelspec": {
   "display_name": "Python 3",
   "language": "python",
   "name": "python3"
  },
  "language_info": {
   "codemirror_mode": {
    "name": "ipython",
    "version": 3
   },
   "file_extension": ".py",
   "mimetype": "text/x-python",
   "name": "python",
   "nbconvert_exporter": "python",
   "pygments_lexer": "ipython3",
   "version": "3.6.12"
  }
 },
 "nbformat": 4,
 "nbformat_minor": 4
}
