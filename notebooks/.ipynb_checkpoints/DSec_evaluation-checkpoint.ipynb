{
 "cells": [
  {
   "cell_type": "markdown",
   "metadata": {
    "id": "KD_bsd8NySXx"
   },
   "source": [
    "# Data Security: GAN based Steganography with Adversarial Perturbations"
   ]
  },
  {
   "cell_type": "markdown",
   "metadata": {
    "id": "8xHm_qw1xdog"
   },
   "source": [
    "## Tasks:"
   ]
  },
  {
   "cell_type": "markdown",
   "metadata": {
    "id": "mVPizGr8xjrl"
   },
   "source": [
    "1. Calculate F1 macro and accuracy for each algorithm wrt to the Steganalyzer.\r\n",
    "  - Study the effect of each attack on the each algorithm and infer if any particular attack is more suitable or less suitable.\r\n",
    "\r\n",
    "2. Calculate the overall detection (cluster 1,2,3,4 together) capacity of the steganalyzer in general and wrt to each attack."
   ]
  },
  {
   "cell_type": "markdown",
   "metadata": {
    "id": "u5DTac9_ySGp"
   },
   "source": [
    "## Understanding the Prediction Values:\r\n",
    "\r\n",
    "- \"Truth\": ground truth about the type of image where 0 is \"cover\", 1 is 'JMiPOD', 2 is 'JUNIWARD', 3 is 'UERD', and 4 is 'Steganogan'.\r\n",
    "\r\n",
    "- \"No Attack\": predicted likelihood of image being a stego given there is no attack introduced.\r\n",
    "\r\n",
    "- \"{} Attack\": predicted likelihood of image being a stego after a {} attack is introduced."
   ]
  },
  {
   "cell_type": "markdown",
   "metadata": {
    "id": "ssLpSiUv-c4g"
   },
   "source": [
    "## Import Libraries and Data"
   ]
  },
  {
   "cell_type": "code",
   "execution_count": null,
   "metadata": {
    "colab": {
     "base_uri": "https://localhost:8080/"
    },
    "collapsed": true,
    "id": "K8zZDhcfN-rV",
    "outputId": "a25f993b-f38f-4f5c-8cfd-a6390b4248bf"
   },
   "outputs": [
    {
     "name": "stdout",
     "output_type": "stream",
     "text": [
      "Mounted at /content/drive\n"
     ]
    }
   ],
   "source": [
    "from google.colab import drive\n",
    "drive.mount('/content/drive')"
   ]
  },
  {
   "cell_type": "code",
   "execution_count": null,
   "metadata": {
    "colab": {
     "base_uri": "https://localhost:8080/"
    },
    "id": "OTul9AVaxOhb",
    "outputId": "037a593c-1581-401d-ca28-776fda8a0030"
   },
   "outputs": [
    {
     "name": "stdout",
     "output_type": "stream",
     "text": [
      "/content/drive/MyDrive/DataSec\n"
     ]
    }
   ],
   "source": [
    "% cd /content/drive/MyDrive/DataSec"
   ]
  },
  {
   "cell_type": "code",
   "execution_count": null,
   "metadata": {
    "id": "t6hOMdjBwtRV"
   },
   "outputs": [],
   "source": [
    "import numpy as np\r\n",
    "import pandas as pd\r\n",
    "from sklearn.metrics import f1_score, accuracy_score, confusion_matrix"
   ]
  },
  {
   "cell_type": "code",
   "execution_count": null,
   "metadata": {
    "id": "Wf9Bn3GjwzjP"
   },
   "outputs": [],
   "source": [
    "col_names = [\"id\",\"Truth\", \"No Attack\", \"FGSM Attack\", \"BIM Attack\", \"CW Attack\",\r\n",
    "             \"RFGSM Attack\", \"PGD Attack\", \"FFGSM Attack\", \"MIFGSM Attack\",\r\n",
    "             \"TPGD Attack\"]\r\n",
    "submissions = pd.read_csv(\"submission.csv\", names=col_names, header=0)"
   ]
  },
  {
   "cell_type": "code",
   "execution_count": null,
   "metadata": {
    "colab": {
     "base_uri": "https://localhost:8080/",
     "height": 198
    },
    "id": "w2S8B3pbxb3R",
    "outputId": "49db7d39-ed79-455a-d7a6-cf4d394bbded"
   },
   "outputs": [
    {
     "data": {
      "text/html": [
       "<div>\n",
       "<style scoped>\n",
       "    .dataframe tbody tr th:only-of-type {\n",
       "        vertical-align: middle;\n",
       "    }\n",
       "\n",
       "    .dataframe tbody tr th {\n",
       "        vertical-align: top;\n",
       "    }\n",
       "\n",
       "    .dataframe thead th {\n",
       "        text-align: right;\n",
       "    }\n",
       "</style>\n",
       "<table border=\"1\" class=\"dataframe\">\n",
       "  <thead>\n",
       "    <tr style=\"text-align: right;\">\n",
       "      <th></th>\n",
       "      <th>id</th>\n",
       "      <th>Truth</th>\n",
       "      <th>No Attack</th>\n",
       "      <th>FGSM Attack</th>\n",
       "      <th>BIM Attack</th>\n",
       "      <th>CW Attack</th>\n",
       "      <th>RFGSM Attack</th>\n",
       "      <th>PGD Attack</th>\n",
       "      <th>FFGSM Attack</th>\n",
       "      <th>MIFGSM Attack</th>\n",
       "      <th>TPGD Attack</th>\n",
       "    </tr>\n",
       "  </thead>\n",
       "  <tbody>\n",
       "    <tr>\n",
       "      <th>0</th>\n",
       "      <td>18666.jpg</td>\n",
       "      <td>3</td>\n",
       "      <td>0.891935</td>\n",
       "      <td>0.921653</td>\n",
       "      <td>0.873296</td>\n",
       "      <td>0.891935</td>\n",
       "      <td>0.759984</td>\n",
       "      <td>0.873296</td>\n",
       "      <td>0.553913</td>\n",
       "      <td>0.474206</td>\n",
       "      <td>1.000000</td>\n",
       "    </tr>\n",
       "    <tr>\n",
       "      <th>1</th>\n",
       "      <td>60731.jpg</td>\n",
       "      <td>1</td>\n",
       "      <td>0.619944</td>\n",
       "      <td>0.204064</td>\n",
       "      <td>0.968255</td>\n",
       "      <td>0.619944</td>\n",
       "      <td>0.885138</td>\n",
       "      <td>0.961690</td>\n",
       "      <td>0.803573</td>\n",
       "      <td>0.913771</td>\n",
       "      <td>0.999998</td>\n",
       "    </tr>\n",
       "    <tr>\n",
       "      <th>2</th>\n",
       "      <td>41183.jpg</td>\n",
       "      <td>3</td>\n",
       "      <td>0.749048</td>\n",
       "      <td>0.760121</td>\n",
       "      <td>0.185418</td>\n",
       "      <td>0.749048</td>\n",
       "      <td>0.551045</td>\n",
       "      <td>0.185842</td>\n",
       "      <td>0.665388</td>\n",
       "      <td>0.053544</td>\n",
       "      <td>0.335893</td>\n",
       "    </tr>\n",
       "    <tr>\n",
       "      <th>3</th>\n",
       "      <td>18649.jpg</td>\n",
       "      <td>3</td>\n",
       "      <td>0.786586</td>\n",
       "      <td>0.574780</td>\n",
       "      <td>0.662055</td>\n",
       "      <td>0.786586</td>\n",
       "      <td>0.598732</td>\n",
       "      <td>0.662323</td>\n",
       "      <td>0.513326</td>\n",
       "      <td>0.257391</td>\n",
       "      <td>1.000000</td>\n",
       "    </tr>\n",
       "    <tr>\n",
       "      <th>4</th>\n",
       "      <td>28590.jpg</td>\n",
       "      <td>0</td>\n",
       "      <td>0.715295</td>\n",
       "      <td>0.799239</td>\n",
       "      <td>0.986412</td>\n",
       "      <td>0.715295</td>\n",
       "      <td>1.000000</td>\n",
       "      <td>0.996683</td>\n",
       "      <td>0.965851</td>\n",
       "      <td>0.968420</td>\n",
       "      <td>0.878464</td>\n",
       "    </tr>\n",
       "  </tbody>\n",
       "</table>\n",
       "</div>"
      ],
      "text/plain": [
       "          id  Truth  No Attack  ...  FFGSM Attack  MIFGSM Attack  TPGD Attack\n",
       "0  18666.jpg      3   0.891935  ...      0.553913       0.474206     1.000000\n",
       "1  60731.jpg      1   0.619944  ...      0.803573       0.913771     0.999998\n",
       "2  41183.jpg      3   0.749048  ...      0.665388       0.053544     0.335893\n",
       "3  18649.jpg      3   0.786586  ...      0.513326       0.257391     1.000000\n",
       "4  28590.jpg      0   0.715295  ...      0.965851       0.968420     0.878464\n",
       "\n",
       "[5 rows x 11 columns]"
      ]
     },
     "execution_count": 60,
     "metadata": {
      "tags": []
     },
     "output_type": "execute_result"
    }
   ],
   "source": [
    "submissions.head()"
   ]
  },
  {
   "cell_type": "code",
   "execution_count": null,
   "metadata": {
    "id": "iERszJ-Axj6P"
   },
   "outputs": [],
   "source": [
    "def attack_evaluator(ground_truth, prediction):\r\n",
    "  '''\r\n",
    "  understand the detection error rate. ~ number of times the steganalyzer \r\n",
    "  fails to notice the stego.\r\n",
    "  '''\r\n",
    "  ground_truth = ground_truth.apply(lambda x: 0 if x==0 else 1)\r\n",
    "  prediction = prediction.apply(lambda x: 0 if x <= 0.5 else 1)\r\n",
    "\r\n",
    "  accuracy = accuracy_score(list(ground_truth), list(prediction))\r\n",
    "  error_rate = 1 - accuracy\r\n",
    "  return round(error_rate, 3)"
   ]
  },
  {
   "cell_type": "markdown",
   "metadata": {
    "id": "jWiDfhOQ8_1u"
   },
   "source": [
    "## Task 1:\r\n",
    "\r\n",
    "How often is the considered algorithm able to smartly fool the steganalyzer?"
   ]
  },
  {
   "cell_type": "code",
   "execution_count": null,
   "metadata": {
    "id": "PZpPm_qG90B9"
   },
   "outputs": [],
   "source": [
    "table_columns = [\"Steganogaphic Algo\"] + list(submissions.columns[2:])\r\n",
    "\r\n",
    "targets_list = []\r\n",
    "for label_id, target in enumerate(['cover', 'jmipod', 'juniward', 'uerd', 'steganogan']):\r\n",
    "  \r\n",
    "  if label_id == 0:\r\n",
    "    continue\r\n",
    "  \r\n",
    "  target_group = submissions[submissions[\"Truth\"] == label_id].reset_index(drop=True)\r\n",
    "  target_eval_list = [target] \r\n",
    "  for i, column in enumerate(submissions.columns[2:]):\r\n",
    "    target_eval_list.append(attack_evaluator(target_group[\"Truth\"], target_group[column]))\r\n",
    "  \r\n",
    "  targets_list.append(target_eval_list)\r\n",
    "\r\n",
    "eval_per_target = pd.DataFrame(targets_list, columns=table_columns)"
   ]
  },
  {
   "cell_type": "code",
   "execution_count": null,
   "metadata": {
    "colab": {
     "base_uri": "https://localhost:8080/",
     "height": 168
    },
    "id": "Ml1I2lKDx26x",
    "outputId": "a4b9e24b-30e2-4a6b-c1ed-e6ed98bbee4d"
   },
   "outputs": [
    {
     "data": {
      "text/html": [
       "<div>\n",
       "<style scoped>\n",
       "    .dataframe tbody tr th:only-of-type {\n",
       "        vertical-align: middle;\n",
       "    }\n",
       "\n",
       "    .dataframe tbody tr th {\n",
       "        vertical-align: top;\n",
       "    }\n",
       "\n",
       "    .dataframe thead th {\n",
       "        text-align: right;\n",
       "    }\n",
       "</style>\n",
       "<table border=\"1\" class=\"dataframe\">\n",
       "  <thead>\n",
       "    <tr style=\"text-align: right;\">\n",
       "      <th></th>\n",
       "      <th>Steganogaphic Algo</th>\n",
       "      <th>No Attack</th>\n",
       "      <th>FGSM Attack</th>\n",
       "      <th>BIM Attack</th>\n",
       "      <th>CW Attack</th>\n",
       "      <th>RFGSM Attack</th>\n",
       "      <th>PGD Attack</th>\n",
       "      <th>FFGSM Attack</th>\n",
       "      <th>MIFGSM Attack</th>\n",
       "      <th>TPGD Attack</th>\n",
       "    </tr>\n",
       "  </thead>\n",
       "  <tbody>\n",
       "    <tr>\n",
       "      <th>0</th>\n",
       "      <td>jmipod</td>\n",
       "      <td>0.038</td>\n",
       "      <td>0.423</td>\n",
       "      <td>0.395</td>\n",
       "      <td>0.038</td>\n",
       "      <td>0.251</td>\n",
       "      <td>0.394</td>\n",
       "      <td>0.107</td>\n",
       "      <td>0.580</td>\n",
       "      <td>0.036</td>\n",
       "    </tr>\n",
       "    <tr>\n",
       "      <th>1</th>\n",
       "      <td>juniward</td>\n",
       "      <td>0.056</td>\n",
       "      <td>0.416</td>\n",
       "      <td>0.401</td>\n",
       "      <td>0.056</td>\n",
       "      <td>0.263</td>\n",
       "      <td>0.401</td>\n",
       "      <td>0.120</td>\n",
       "      <td>0.587</td>\n",
       "      <td>0.026</td>\n",
       "    </tr>\n",
       "    <tr>\n",
       "      <th>2</th>\n",
       "      <td>uerd</td>\n",
       "      <td>0.055</td>\n",
       "      <td>0.407</td>\n",
       "      <td>0.410</td>\n",
       "      <td>0.055</td>\n",
       "      <td>0.277</td>\n",
       "      <td>0.408</td>\n",
       "      <td>0.133</td>\n",
       "      <td>0.577</td>\n",
       "      <td>0.023</td>\n",
       "    </tr>\n",
       "    <tr>\n",
       "      <th>3</th>\n",
       "      <td>steganogan</td>\n",
       "      <td>0.072</td>\n",
       "      <td>0.228</td>\n",
       "      <td>0.448</td>\n",
       "      <td>0.072</td>\n",
       "      <td>0.260</td>\n",
       "      <td>0.448</td>\n",
       "      <td>0.116</td>\n",
       "      <td>0.710</td>\n",
       "      <td>0.034</td>\n",
       "    </tr>\n",
       "  </tbody>\n",
       "</table>\n",
       "</div>"
      ],
      "text/plain": [
       "  Steganogaphic Algo  No Attack  ...  MIFGSM Attack  TPGD Attack\n",
       "0             jmipod      0.038  ...          0.580        0.036\n",
       "1           juniward      0.056  ...          0.587        0.026\n",
       "2               uerd      0.055  ...          0.577        0.023\n",
       "3         steganogan      0.072  ...          0.710        0.034\n",
       "\n",
       "[4 rows x 10 columns]"
      ]
     },
     "execution_count": 76,
     "metadata": {
      "tags": []
     },
     "output_type": "execute_result"
    }
   ],
   "source": [
    "eval_per_target"
   ]
  },
  {
   "cell_type": "markdown",
   "metadata": {
    "id": "0wN7IvG_90Jk"
   },
   "source": [
    "## Task 2: Generalization Study"
   ]
  },
  {
   "cell_type": "code",
   "execution_count": null,
   "metadata": {
    "id": "LZJmHgnQ9pnb"
   },
   "outputs": [],
   "source": [
    "eval_list_overall = [\"Overall\"]\r\n",
    "for i, column in enumerate(submissions.columns[2:]):\r\n",
    "    eval_list_overall.append(attack_evaluator(submissions[\"Truth\"], submissions[column]))"
   ]
  },
  {
   "cell_type": "code",
   "execution_count": null,
   "metadata": {
    "id": "iVgM2VLiOh7R"
   },
   "outputs": [],
   "source": [
    "target_no_gan = submissions[submissions[\"Truth\"] != 4].reset_index(drop=True)\r\n",
    "eval_list_no_gan = [\"No GAN\"]\r\n",
    "for i, column in enumerate(target_no_gan.columns[2:]):\r\n",
    "  eval_list_no_gan.append(attack_evaluator(target_no_gan[\"Truth\"], target_no_gan[column]))"
   ]
  },
  {
   "cell_type": "code",
   "execution_count": null,
   "metadata": {
    "id": "5kcQ0nmdOt7N"
   },
   "outputs": [],
   "source": [
    "eval_generalization = pd.DataFrame([eval_list_no_gan, eval_list_overall], columns=table_columns)"
   ]
  },
  {
   "cell_type": "code",
   "execution_count": null,
   "metadata": {
    "colab": {
     "base_uri": "https://localhost:8080/",
     "height": 108
    },
    "id": "UCsgWWfsO5Hq",
    "outputId": "89b8cd16-da7b-4bda-b9ba-674c8e5305e2"
   },
   "outputs": [
    {
     "data": {
      "text/html": [
       "<div>\n",
       "<style scoped>\n",
       "    .dataframe tbody tr th:only-of-type {\n",
       "        vertical-align: middle;\n",
       "    }\n",
       "\n",
       "    .dataframe tbody tr th {\n",
       "        vertical-align: top;\n",
       "    }\n",
       "\n",
       "    .dataframe thead th {\n",
       "        text-align: right;\n",
       "    }\n",
       "</style>\n",
       "<table border=\"1\" class=\"dataframe\">\n",
       "  <thead>\n",
       "    <tr style=\"text-align: right;\">\n",
       "      <th></th>\n",
       "      <th>Steganogaphic Algo</th>\n",
       "      <th>No Attack</th>\n",
       "      <th>FGSM Attack</th>\n",
       "      <th>BIM Attack</th>\n",
       "      <th>CW Attack</th>\n",
       "      <th>RFGSM Attack</th>\n",
       "      <th>PGD Attack</th>\n",
       "      <th>FFGSM Attack</th>\n",
       "      <th>MIFGSM Attack</th>\n",
       "      <th>TPGD Attack</th>\n",
       "    </tr>\n",
       "  </thead>\n",
       "  <tbody>\n",
       "    <tr>\n",
       "      <th>0</th>\n",
       "      <td>No GAN</td>\n",
       "      <td>0.265</td>\n",
       "      <td>0.500</td>\n",
       "      <td>0.546</td>\n",
       "      <td>0.265</td>\n",
       "      <td>0.438</td>\n",
       "      <td>0.546</td>\n",
       "      <td>0.332</td>\n",
       "      <td>0.683</td>\n",
       "      <td>0.266</td>\n",
       "    </tr>\n",
       "    <tr>\n",
       "      <th>1</th>\n",
       "      <td>Overall</td>\n",
       "      <td>0.226</td>\n",
       "      <td>0.445</td>\n",
       "      <td>0.526</td>\n",
       "      <td>0.226</td>\n",
       "      <td>0.402</td>\n",
       "      <td>0.526</td>\n",
       "      <td>0.289</td>\n",
       "      <td>0.689</td>\n",
       "      <td>0.220</td>\n",
       "    </tr>\n",
       "  </tbody>\n",
       "</table>\n",
       "</div>"
      ],
      "text/plain": [
       "  Steganogaphic Algo  No Attack  ...  MIFGSM Attack  TPGD Attack\n",
       "0             No GAN      0.265  ...          0.683        0.266\n",
       "1            Overall      0.226  ...          0.689        0.220\n",
       "\n",
       "[2 rows x 10 columns]"
      ]
     },
     "execution_count": 103,
     "metadata": {
      "tags": []
     },
     "output_type": "execute_result"
    }
   ],
   "source": [
    "eval_generalization"
   ]
  }
 ],
 "metadata": {
  "colab": {
   "collapsed_sections": [],
   "name": "DSec_evaluation.ipynb",
   "provenance": [],
   "toc_visible": true
  },
  "kernelspec": {
   "display_name": "Python 3",
   "name": "python3"
  }
 },
 "nbformat": 4,
 "nbformat_minor": 0
}
