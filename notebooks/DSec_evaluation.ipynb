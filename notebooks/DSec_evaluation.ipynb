{
  "nbformat": 4,
  "nbformat_minor": 0,
  "metadata": {
    "colab": {
      "name": "DSec_evaluation.ipynb",
      "provenance": [],
      "collapsed_sections": [],
      "toc_visible": true
    },
    "kernelspec": {
      "name": "python3",
      "display_name": "Python 3"
    }
  },
  "cells": [
    {
      "cell_type": "markdown",
      "metadata": {
        "id": "KD_bsd8NySXx"
      },
      "source": [
        "# Data Security: GAN based Steganography with Adversarial Perturbations"
      ]
    },
    {
      "cell_type": "markdown",
      "metadata": {
        "id": "8xHm_qw1xdog"
      },
      "source": [
        "## Tasks:"
      ]
    },
    {
      "cell_type": "markdown",
      "metadata": {
        "id": "mVPizGr8xjrl"
      },
      "source": [
        "1. Calculate F1 macro and accuracy for each algorithm wrt to the Steganalyzer.\r\n",
        "  - Study the effect of each attack on the each algorithm and infer if any particular attack is more suitable or less suitable.\r\n",
        "\r\n",
        "2. Calculate the overall detection (cluster 1,2,3,4 together) capacity of the steganalyzer in general and wrt to each attack."
      ]
    },
    {
      "cell_type": "markdown",
      "metadata": {
        "id": "u5DTac9_ySGp"
      },
      "source": [
        "## Understanding the Prediction Values:\r\n",
        "\r\n",
        "- \"Truth\": ground truth about the type of image where 0 is \"cover\", 1 is 'JMiPOD', 2 is 'JUNIWARD', 3 is 'UERD', and 4 is 'Steganogan'.\r\n",
        "\r\n",
        "- \"No Attack\": predicted likelihood of image being a stego given there is no attack introduced.\r\n",
        "\r\n",
        "- \"{} Attack\": predicted likelihood of image being a stego after a {} attack is introduced."
      ]
    },
    {
      "cell_type": "markdown",
      "metadata": {
        "id": "ssLpSiUv-c4g"
      },
      "source": [
        "## Import Libraries and Data"
      ]
    },
    {
      "cell_type": "code",
      "metadata": {
        "id": "t6hOMdjBwtRV"
      },
      "source": [
        "import numpy as np\r\n",
        "import pandas as pd\r\n",
        "from sklearn.metrics import accuracy_score\r\n",
        "import matplotlib.pyplot as plt"
      ],
      "execution_count": 3,
      "outputs": []
    },
    {
      "cell_type": "code",
      "metadata": {
        "id": "Wf9Bn3GjwzjP"
      },
      "source": [
        "col_names = [\"id\",\"Truth\", \"No Attack\", \"FGSM Attack\", \"BIM Attack\", \"CW Attack\",\r\n",
        "             \"RFGSM Attack\", \"PGD Attack\", \"FFGSM Attack\", \"MIFGSM Attack\",\r\n",
        "             \"TPGD Attack\"]\r\n",
        "submissions = pd.read_csv(\"submission.csv\", names=col_names, header=0)\r\n",
        "submissions.drop(columns=[\"CW Attack\", \"TPGD Attack\", \"BIM Attack\"], inplace=True)"
      ],
      "execution_count": 4,
      "outputs": []
    },
    {
      "cell_type": "code",
      "metadata": {
        "colab": {
          "base_uri": "https://localhost:8080/",
          "height": 198
        },
        "id": "w2S8B3pbxb3R",
        "outputId": "2fde9937-8164-4e84-a623-1d647d66aa23"
      },
      "source": [
        "submissions.head()"
      ],
      "execution_count": 5,
      "outputs": [
        {
          "output_type": "execute_result",
          "data": {
            "text/html": [
              "<div>\n",
              "<style scoped>\n",
              "    .dataframe tbody tr th:only-of-type {\n",
              "        vertical-align: middle;\n",
              "    }\n",
              "\n",
              "    .dataframe tbody tr th {\n",
              "        vertical-align: top;\n",
              "    }\n",
              "\n",
              "    .dataframe thead th {\n",
              "        text-align: right;\n",
              "    }\n",
              "</style>\n",
              "<table border=\"1\" class=\"dataframe\">\n",
              "  <thead>\n",
              "    <tr style=\"text-align: right;\">\n",
              "      <th></th>\n",
              "      <th>id</th>\n",
              "      <th>Truth</th>\n",
              "      <th>No Attack</th>\n",
              "      <th>FGSM Attack</th>\n",
              "      <th>RFGSM Attack</th>\n",
              "      <th>PGD Attack</th>\n",
              "      <th>FFGSM Attack</th>\n",
              "      <th>MIFGSM Attack</th>\n",
              "    </tr>\n",
              "  </thead>\n",
              "  <tbody>\n",
              "    <tr>\n",
              "      <th>0</th>\n",
              "      <td>18666.jpg</td>\n",
              "      <td>3</td>\n",
              "      <td>0.891935</td>\n",
              "      <td>0.921653</td>\n",
              "      <td>0.759984</td>\n",
              "      <td>0.873296</td>\n",
              "      <td>0.553913</td>\n",
              "      <td>0.474206</td>\n",
              "    </tr>\n",
              "    <tr>\n",
              "      <th>1</th>\n",
              "      <td>60731.jpg</td>\n",
              "      <td>1</td>\n",
              "      <td>0.619944</td>\n",
              "      <td>0.204064</td>\n",
              "      <td>0.885138</td>\n",
              "      <td>0.961690</td>\n",
              "      <td>0.803573</td>\n",
              "      <td>0.913771</td>\n",
              "    </tr>\n",
              "    <tr>\n",
              "      <th>2</th>\n",
              "      <td>41183.jpg</td>\n",
              "      <td>3</td>\n",
              "      <td>0.749048</td>\n",
              "      <td>0.760121</td>\n",
              "      <td>0.551045</td>\n",
              "      <td>0.185842</td>\n",
              "      <td>0.665388</td>\n",
              "      <td>0.053544</td>\n",
              "    </tr>\n",
              "    <tr>\n",
              "      <th>3</th>\n",
              "      <td>18649.jpg</td>\n",
              "      <td>3</td>\n",
              "      <td>0.786586</td>\n",
              "      <td>0.574780</td>\n",
              "      <td>0.598732</td>\n",
              "      <td>0.662323</td>\n",
              "      <td>0.513326</td>\n",
              "      <td>0.257391</td>\n",
              "    </tr>\n",
              "    <tr>\n",
              "      <th>4</th>\n",
              "      <td>28590.jpg</td>\n",
              "      <td>0</td>\n",
              "      <td>0.715295</td>\n",
              "      <td>0.799239</td>\n",
              "      <td>1.000000</td>\n",
              "      <td>0.996683</td>\n",
              "      <td>0.965851</td>\n",
              "      <td>0.968420</td>\n",
              "    </tr>\n",
              "  </tbody>\n",
              "</table>\n",
              "</div>"
            ],
            "text/plain": [
              "          id  Truth  No Attack  ...  PGD Attack  FFGSM Attack  MIFGSM Attack\n",
              "0  18666.jpg      3   0.891935  ...    0.873296      0.553913       0.474206\n",
              "1  60731.jpg      1   0.619944  ...    0.961690      0.803573       0.913771\n",
              "2  41183.jpg      3   0.749048  ...    0.185842      0.665388       0.053544\n",
              "3  18649.jpg      3   0.786586  ...    0.662323      0.513326       0.257391\n",
              "4  28590.jpg      0   0.715295  ...    0.996683      0.965851       0.968420\n",
              "\n",
              "[5 rows x 8 columns]"
            ]
          },
          "metadata": {
            "tags": []
          },
          "execution_count": 5
        }
      ]
    },
    {
      "cell_type": "code",
      "metadata": {
        "id": "iERszJ-Axj6P"
      },
      "source": [
        "def attack_evaluator(ground_truth, prediction):\r\n",
        "  '''\r\n",
        "  understand the detection error rate. ~ number of times the steganalyzer \r\n",
        "  fails to notice the stego.\r\n",
        "  '''\r\n",
        "  ground_truth = ground_truth.apply(lambda x: 0 if x==0 else 1)\r\n",
        "  prediction = prediction.apply(lambda x: 0 if x <= 0.5 else 1)\r\n",
        "\r\n",
        "  accuracy = accuracy_score(list(ground_truth), list(prediction))\r\n",
        "  error_rate = 1 - accuracy\r\n",
        "  return round(error_rate, 3)"
      ],
      "execution_count": 6,
      "outputs": []
    },
    {
      "cell_type": "markdown",
      "metadata": {
        "id": "jWiDfhOQ8_1u"
      },
      "source": [
        "## Task 1:\r\n",
        "\r\n",
        "How often is the considered algorithm able to smartly fool the steganalyzer?"
      ]
    },
    {
      "cell_type": "code",
      "metadata": {
        "id": "PZpPm_qG90B9"
      },
      "source": [
        "table_columns = [\"Steganographic Algo\"] + list(submissions.columns[2:])\r\n",
        "\r\n",
        "targets_list = []\r\n",
        "for label_id, target in enumerate(['cover', 'JMiPOD', 'JUNIWARD', 'UERD', 'SteganoGAN']):\r\n",
        "  \r\n",
        "  if label_id == 0:\r\n",
        "    continue\r\n",
        "  \r\n",
        "  target_group = submissions[submissions[\"Truth\"] == label_id].reset_index(drop=True)\r\n",
        "  target_eval_list = [target] \r\n",
        "  for i, column in enumerate(submissions.columns[2:]):\r\n",
        "    target_eval_list.append(attack_evaluator(target_group[\"Truth\"], target_group[column]))\r\n",
        "  \r\n",
        "  targets_list.append(target_eval_list)\r\n",
        "\r\n",
        "eval_per_target = pd.DataFrame(targets_list, columns=table_columns)"
      ],
      "execution_count": 7,
      "outputs": []
    },
    {
      "cell_type": "code",
      "metadata": {
        "colab": {
          "base_uri": "https://localhost:8080/",
          "height": 168
        },
        "id": "Evls2HOZtF-b",
        "outputId": "4e95090d-fb03-4ddd-b5a3-600e9b21560a"
      },
      "source": [
        "eval_per_target"
      ],
      "execution_count": 8,
      "outputs": [
        {
          "output_type": "execute_result",
          "data": {
            "text/html": [
              "<div>\n",
              "<style scoped>\n",
              "    .dataframe tbody tr th:only-of-type {\n",
              "        vertical-align: middle;\n",
              "    }\n",
              "\n",
              "    .dataframe tbody tr th {\n",
              "        vertical-align: top;\n",
              "    }\n",
              "\n",
              "    .dataframe thead th {\n",
              "        text-align: right;\n",
              "    }\n",
              "</style>\n",
              "<table border=\"1\" class=\"dataframe\">\n",
              "  <thead>\n",
              "    <tr style=\"text-align: right;\">\n",
              "      <th></th>\n",
              "      <th>Steganographic Algo</th>\n",
              "      <th>No Attack</th>\n",
              "      <th>FGSM Attack</th>\n",
              "      <th>RFGSM Attack</th>\n",
              "      <th>PGD Attack</th>\n",
              "      <th>FFGSM Attack</th>\n",
              "      <th>MIFGSM Attack</th>\n",
              "    </tr>\n",
              "  </thead>\n",
              "  <tbody>\n",
              "    <tr>\n",
              "      <th>0</th>\n",
              "      <td>JMiPOD</td>\n",
              "      <td>0.038</td>\n",
              "      <td>0.423</td>\n",
              "      <td>0.251</td>\n",
              "      <td>0.394</td>\n",
              "      <td>0.107</td>\n",
              "      <td>0.580</td>\n",
              "    </tr>\n",
              "    <tr>\n",
              "      <th>1</th>\n",
              "      <td>JUNIWARD</td>\n",
              "      <td>0.056</td>\n",
              "      <td>0.416</td>\n",
              "      <td>0.263</td>\n",
              "      <td>0.401</td>\n",
              "      <td>0.120</td>\n",
              "      <td>0.587</td>\n",
              "    </tr>\n",
              "    <tr>\n",
              "      <th>2</th>\n",
              "      <td>UERD</td>\n",
              "      <td>0.055</td>\n",
              "      <td>0.407</td>\n",
              "      <td>0.277</td>\n",
              "      <td>0.408</td>\n",
              "      <td>0.133</td>\n",
              "      <td>0.577</td>\n",
              "    </tr>\n",
              "    <tr>\n",
              "      <th>3</th>\n",
              "      <td>SteganoGAN</td>\n",
              "      <td>0.072</td>\n",
              "      <td>0.228</td>\n",
              "      <td>0.260</td>\n",
              "      <td>0.448</td>\n",
              "      <td>0.116</td>\n",
              "      <td>0.710</td>\n",
              "    </tr>\n",
              "  </tbody>\n",
              "</table>\n",
              "</div>"
            ],
            "text/plain": [
              "  Steganographic Algo  No Attack  ...  FFGSM Attack  MIFGSM Attack\n",
              "0              JMiPOD      0.038  ...         0.107          0.580\n",
              "1            JUNIWARD      0.056  ...         0.120          0.587\n",
              "2                UERD      0.055  ...         0.133          0.577\n",
              "3          SteganoGAN      0.072  ...         0.116          0.710\n",
              "\n",
              "[4 rows x 7 columns]"
            ]
          },
          "metadata": {
            "tags": []
          },
          "execution_count": 8
        }
      ]
    },
    {
      "cell_type": "code",
      "metadata": {
        "colab": {
          "base_uri": "https://localhost:8080/",
          "height": 350
        },
        "id": "D3Vz8dhet5ec",
        "outputId": "97109a62-90cf-4b6f-82d4-58dfaf9983f5"
      },
      "source": [
        "columns = eval_per_target.columns[1:]\r\n",
        "x = eval_per_target[\"Steganographic Algo\"].values\r\n",
        "fig = plt.figure(figsize=(8,5))\r\n",
        "ax  = fig.add_subplot(111)\r\n",
        "ax.set_position([0.1,0.1,0.5,0.8])\r\n",
        "for col in columns:\r\n",
        "  y = eval_per_target[col].values\r\n",
        "  ax.scatter(x, y, label=col)\r\n",
        "plt.legend(title=\"Attack\", loc='center left', bbox_to_anchor=(1, 0.5))\r\n",
        "plt.ylabel(\"Steganographic Algorithm\")\r\n",
        "plt.xlabel(\"Detection Error Rate\")\r\n",
        "plt.savefig('eval_algos_horizontal.png')"
      ],
      "execution_count": 12,
      "outputs": [
        {
          "output_type": "display_data",
          "data": {
            "image/png": "[encoded data removed]",
            "text/plain": [
              "<Figure size 576x360 with 1 Axes>"
            ]
          },
          "metadata": {
            "tags": [],
            "needs_background": "light"
          }
        }
      ]
    },
    {
      "cell_type": "markdown",
      "metadata": {
        "id": "0wN7IvG_90Jk"
      },
      "source": [
        "## Task 2: Generalization Study"
      ]
    },
    {
      "cell_type": "code",
      "metadata": {
        "id": "iVgM2VLiOh7R"
      },
      "source": [
        "target_no_gan = submissions[submissions[\"Truth\"] != 4].reset_index(drop=True)\r\n",
        "eval_list_no_gan = [\"No GAN\"]\r\n",
        "eval_list_overall = [\"Overall\"]\r\n",
        "\r\n",
        "for i, column in enumerate(submissions.columns[2:]):\r\n",
        "  eval_list_no_gan.append(attack_evaluator(target_no_gan[\"Truth\"], target_no_gan[column]))\r\n",
        "  eval_list_overall.append(attack_evaluator(submissions[\"Truth\"], submissions[column]))\r\n",
        "eval_generalization = pd.DataFrame([eval_list_no_gan, eval_list_overall], columns=table_columns)"
      ],
      "execution_count": 10,
      "outputs": []
    },
    {
      "cell_type": "code",
      "metadata": {
        "colab": {
          "base_uri": "https://localhost:8080/",
          "height": 108
        },
        "id": "oYY5X2yE9zo0",
        "outputId": "03c84f3c-1419-4359-f3f2-542aabb92992"
      },
      "source": [
        "eval_generalization"
      ],
      "execution_count": 11,
      "outputs": [
        {
          "output_type": "execute_result",
          "data": {
            "text/html": [
              "<div>\n",
              "<style scoped>\n",
              "    .dataframe tbody tr th:only-of-type {\n",
              "        vertical-align: middle;\n",
              "    }\n",
              "\n",
              "    .dataframe tbody tr th {\n",
              "        vertical-align: top;\n",
              "    }\n",
              "\n",
              "    .dataframe thead th {\n",
              "        text-align: right;\n",
              "    }\n",
              "</style>\n",
              "<table border=\"1\" class=\"dataframe\">\n",
              "  <thead>\n",
              "    <tr style=\"text-align: right;\">\n",
              "      <th></th>\n",
              "      <th>Steganographic Algo</th>\n",
              "      <th>No Attack</th>\n",
              "      <th>FGSM Attack</th>\n",
              "      <th>RFGSM Attack</th>\n",
              "      <th>PGD Attack</th>\n",
              "      <th>FFGSM Attack</th>\n",
              "      <th>MIFGSM Attack</th>\n",
              "    </tr>\n",
              "  </thead>\n",
              "  <tbody>\n",
              "    <tr>\n",
              "      <th>0</th>\n",
              "      <td>No GAN</td>\n",
              "      <td>0.265</td>\n",
              "      <td>0.500</td>\n",
              "      <td>0.438</td>\n",
              "      <td>0.546</td>\n",
              "      <td>0.332</td>\n",
              "      <td>0.683</td>\n",
              "    </tr>\n",
              "    <tr>\n",
              "      <th>1</th>\n",
              "      <td>Overall</td>\n",
              "      <td>0.226</td>\n",
              "      <td>0.445</td>\n",
              "      <td>0.402</td>\n",
              "      <td>0.526</td>\n",
              "      <td>0.289</td>\n",
              "      <td>0.689</td>\n",
              "    </tr>\n",
              "  </tbody>\n",
              "</table>\n",
              "</div>"
            ],
            "text/plain": [
              "  Steganographic Algo  No Attack  ...  FFGSM Attack  MIFGSM Attack\n",
              "0              No GAN      0.265  ...         0.332          0.683\n",
              "1             Overall      0.226  ...         0.289          0.689\n",
              "\n",
              "[2 rows x 7 columns]"
            ]
          },
          "metadata": {
            "tags": []
          },
          "execution_count": 11
        }
      ]
    }
  ]
}