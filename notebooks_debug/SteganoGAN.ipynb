{
 "cells": [
  {
   "cell_type": "code",
   "execution_count": 1,
   "metadata": {},
   "outputs": [
    {
     "name": "stdout",
     "output_type": "stream",
     "text": [
      "# conda environments:\r\n",
      "#\r\n",
      "base                     /mnt/data/hannan/miniconda3\r\n",
      "contrastive              /mnt/data/hannan/miniconda3/envs/contrastive\r\n",
      "deit                     /mnt/data/hannan/miniconda3/envs/deit\r\n",
      "myenvi                *  /mnt/data/hannan/miniconda3/envs/myenvi\r\n",
      "steganogan               /mnt/data/hannan/miniconda3/envs/steganogan\r\n",
      "\r\n"
     ]
    }
   ],
   "source": [
    "!conda env list"
   ]
  },
  {
   "cell_type": "code",
   "execution_count": 2,
   "metadata": {},
   "outputs": [
    {
     "name": "stdout",
     "output_type": "stream",
     "text": [
      "/mnt/data/hannan/alaska/notebooks\r\n"
     ]
    }
   ],
   "source": [
    "!pwd"
   ]
  },
  {
   "cell_type": "code",
   "execution_count": 3,
   "metadata": {},
   "outputs": [],
   "source": [
    "import sys\n",
    "sys.path.insert(0, \"..\")\n",
    "import os\n",
    "os.chdir(\"..\")"
   ]
  },
  {
   "cell_type": "code",
   "execution_count": 4,
   "metadata": {},
   "outputs": [],
   "source": [
    "import steganogan"
   ]
  },
  {
   "cell_type": "code",
   "execution_count": 5,
   "metadata": {
    "jupyter": {
     "outputs_hidden": true
    }
   },
   "outputs": [
    {
     "name": "stderr",
     "output_type": "stream",
     "text": [
      "/mnt/data/hannan/miniconda3/envs/myenvi/lib/python3.6/site-packages/torch/serialization.py:434: SourceChangeWarning: source code of class 'steganogan.decoders.DenseDecoder' has changed. you can retrieve the original source code by accessing the object's source attribute or set `torch.nn.Module.dump_patches = True` and use the patch tool to revert the changes.\n",
      "  warnings.warn(msg, SourceChangeWarning)\n",
      "/mnt/data/hannan/miniconda3/envs/myenvi/lib/python3.6/site-packages/torch/serialization.py:434: SourceChangeWarning: source code of class 'steganogan.critics.BasicCritic' has changed. you can retrieve the original source code by accessing the object's source attribute or set `torch.nn.Module.dump_patches = True` and use the patch tool to revert the changes.\n",
      "  warnings.warn(msg, SourceChangeWarning)\n"
     ]
    }
   ],
   "source": [
    "from steganogan import SteganoGAN\n",
    "steganogan = SteganoGAN.load(architecture='dense')"
   ]
  },
  {
   "cell_type": "code",
   "execution_count": 7,
   "metadata": {},
   "outputs": [],
   "source": [
    "steganogan.encode('alaska2-image-steganalysis/Cover/00005.jpg', 'alaska2-image-steganalysis/00005.png', 'This is a super secret message!')"
   ]
  },
  {
   "cell_type": "code",
   "execution_count": 8,
   "metadata": {},
   "outputs": [
    {
     "data": {
      "text/plain": [
       "'D4goZ3gLZLyHC6Gb5CieVT'"
      ]
     },
     "execution_count": 8,
     "metadata": {},
     "output_type": "execute_result"
    }
   ],
   "source": [
    "try:\n",
    "    secret = steganogan.decode('alaska2-image-steganalysis/SteganoGAN/00002.png')\n",
    "except ValueError as ve:\n",
    "    secret = ve\n",
    "secret"
   ]
  },
  {
   "cell_type": "code",
   "execution_count": null,
   "metadata": {},
   "outputs": [],
   "source": [
    "try:\n",
    "    secret = steganogan.decode('alaska2-image-steganalysis/SteganoGAN/00005.png')\n",
    "except ValueError as ve:\n",
    "    secret = str(ve)\n",
    "secret"
   ]
  },
  {
   "cell_type": "code",
   "execution_count": null,
   "metadata": {},
   "outputs": [],
   "source": [
    "!ls"
   ]
  },
  {
   "cell_type": "code",
   "execution_count": null,
   "metadata": {},
   "outputs": [],
   "source": [
    "import random\n",
    "import string\n",
    "\n",
    "def get_random_alphanumeric_string(length):\n",
    "    letters_and_digits = string.ascii_letters + string.digits\n",
    "    result_str = ''.join((random.choice(letters_and_digits) for i in range(length)))\n",
    "#     print(\"Random alphanumeric String is:\", result_str)\n",
    "    return result_str"
   ]
  },
  {
   "cell_type": "markdown",
   "metadata": {},
   "source": [
    "### Encode Secret"
   ]
  },
  {
   "cell_type": "code",
   "execution_count": null,
   "metadata": {},
   "outputs": [],
   "source": [
    "import os\n",
    "i = 0\n",
    "for filename in sorted(os.listdir('alaska2-image-steganalysis/Cover/')):\n",
    "    if i==200:\n",
    "        break\n",
    "    if i%100==0:\n",
    "        print(filename)\n",
    "    i = i + 1\n",
    "    steganogan.encode(f'alaska2-image-steganalysis/Cover/{filename}',\n",
    "                      f\"alaska2-image-steganalysis/SteganoGAN/{filename.replace('jpg', 'png')}\",\n",
    "                      get_random_alphanumeric_string(random.randint(10, 50)))"
   ]
  },
  {
   "cell_type": "markdown",
   "metadata": {},
   "source": [
    "### Decode secret"
   ]
  },
  {
   "cell_type": "code",
   "execution_count": 7,
   "metadata": {},
   "outputs": [
    {
     "name": "stdout",
     "output_type": "stream",
     "text": [
      "alaska2-image-steganalysis/SteganoGAN_Attk/00742.png\n",
      "00742.png ciZA9Lgt8odZwdPqXGoP2RsX84\n",
      "00742_BIM.png Failed to find message.\n",
      "00742_CW.png ciZA9Lgt8odZwdPqXGoP2RsX84\n",
      "00742_FFGSM.png Failed to find message.\n",
      "00742_FGSM.png Failed to find message.\n",
      "00742_MIFGSM.png Failed to find message.\n",
      "00742_PGD.png Failed to find message.\n",
      "00742_RFGSM.png Failed to find message.\n",
      "00742_TPGD.png Failed to find message.\n",
      "01340.png CKWVUI7lmEaU2fTyQHypkcjYTkoK\n"
     ]
    },
    {
     "data": {
      "text/plain": [
       "(['00742.png',\n",
       "  '00742_BIM.png',\n",
       "  '00742_CW.png',\n",
       "  '00742_FFGSM.png',\n",
       "  '00742_FGSM.png',\n",
       "  '00742_MIFGSM.png',\n",
       "  '00742_PGD.png',\n",
       "  '00742_RFGSM.png',\n",
       "  '00742_TPGD.png',\n",
       "  '01340.png'],\n",
       " ['ciZA9Lgt8odZwdPqXGoP2RsX84',\n",
       "  ValueError('Failed to find message.'),\n",
       "  'ciZA9Lgt8odZwdPqXGoP2RsX84',\n",
       "  ValueError('Failed to find message.'),\n",
       "  ValueError('Failed to find message.'),\n",
       "  ValueError('Failed to find message.'),\n",
       "  ValueError('Failed to find message.'),\n",
       "  ValueError('Failed to find message.'),\n",
       "  ValueError('Failed to find message.'),\n",
       "  'CKWVUI7lmEaU2fTyQHypkcjYTkoK'])"
      ]
     },
     "execution_count": 7,
     "metadata": {},
     "output_type": "execute_result"
    }
   ],
   "source": [
    "import glob\n",
    "names = []\n",
    "secrets = []\n",
    "import os\n",
    "i = 0\n",
    "for filename in sorted(glob.glob('alaska2-image-steganalysis/SteganoGAN_Attk/*.png')):\n",
    "    if i==10:\n",
    "        break\n",
    "    if i%10==0:\n",
    "        print(filename)\n",
    "    i = i + 1\n",
    "    \n",
    "    try:\n",
    "        secret = steganogan.decode(filename)\n",
    "    except ValueError as ve:\n",
    "        secret = ve\n",
    "    print(filename.split('/')[-1], secret)\n",
    "    names.append(filename.split('/')[-1])\n",
    "    secrets.append(secret)\n",
    "names, secrets"
   ]
  },
  {
   "cell_type": "code",
   "execution_count": 21,
   "metadata": {},
   "outputs": [],
   "source": [
    "img_names, img_attk = [], []\n",
    "for name in names:\n",
    "    split = name.split('.')[0].split('_')\n",
    "    if len(split)==1:\n",
    "        img_names.append(split[0])\n",
    "        img_attk.append('None')\n",
    "    else:\n",
    "        img_names.append(name.split('.')[0].split('_')[0] )\n",
    "        img_attk.append(name.split('.')[0].split('_')[1] )"
   ]
  },
  {
   "cell_type": "code",
   "execution_count": 23,
   "metadata": {},
   "outputs": [],
   "source": [
    "import pandas as pd\n",
    "data = {'names': img_names, 'attk':img_attk, 'secrets': secrets}\n",
    "data = pd.DataFrame.from_dict(data)\n",
    "data\n",
    "data.to_csv('Evaluation/secrets.csv', index=False)  "
   ]
  },
  {
   "cell_type": "markdown",
   "metadata": {},
   "source": [
    "### Investigate Decode secret "
   ]
  },
  {
   "cell_type": "code",
   "execution_count": 37,
   "metadata": {
    "scrolled": true
   },
   "outputs": [
    {
     "name": "stdout",
     "output_type": "stream",
     "text": [
      "False\n",
      "False\n",
      "False\n",
      "False\n",
      "ciZA9Lgt8odZwdPqXGoP2RsX84\n",
      "ciZA9Lgt8odZwdPqXGoP2RsX84\n",
      "ciZA9Lgt8odZwdPqXGoP2RsX84\n",
      "ciZA9Lgt8odZwdPqXGoP2RsX84\n",
      "ciZA9Lgt8odZwdPqXGoP2RsX84\n",
      "ciZA9Lgt8odZwdPqXGoP2RsX84\n",
      "ciZA9Lgt8odZwdPqXGoP2RsX84\n",
      "ciZA9Lgt8odZwdPqXGoP2RsX84\n",
      "ciZA9Lgt8odZwdPqXGoP2RsX84\n",
      "ciZA9Lgt8odZwdPqXGoP2RsX84\n",
      "ciZA9Lgt8odZwdPqXGoP2RsX84\n",
      "False\n",
      "False\n",
      "False\n",
      "False\n",
      "False\n"
     ]
    }
   ],
   "source": [
    "from imageio import imread, imwrite\n",
    "import torch\n",
    "from collections import Counter\n",
    "from steganogan.utils import bits_to_bytearray, bytearray_to_text, ssim, text_to_bits\n",
    "image = 'alaska2-image-steganalysis/SteganoGAN/00742.png'\n",
    "\n",
    "if not os.path.exists(image):\n",
    "    raise ValueError('Unable to read %s.' % image)\n",
    "    \n",
    "image = imread(image, pilmode='RGB') / 255.0\n",
    "image = torch.FloatTensor(image).permute(2, 1, 0).unsqueeze(0)\n",
    "image = image.to(torch.device('cuda'))\n",
    "\n",
    "image = steganogan.decoder(image).view(-1) > 0\n",
    "candidates = Counter()\n",
    "bits = image.data.cpu().numpy().tolist()\n",
    "\n",
    "for candidate in bits_to_bytearray(bits).split(b'\\x00\\x00\\x00\\x00'):\n",
    "    candidate = bytearray_to_text(bytearray(candidate))\n",
    "    print(candidate)"
   ]
  },
  {
   "cell_type": "code",
   "execution_count": 38,
   "metadata": {},
   "outputs": [
    {
     "ename": "ReedSolomonError",
     "evalue": "Could not locate error",
     "output_type": "error",
     "traceback": [
      "\u001b[0;31m---------------------------------------------------------------------------\u001b[0m",
      "\u001b[0;31mReedSolomonError\u001b[0m                          Traceback (most recent call last)",
      "\u001b[0;32m<ipython-input-38-d14adc8baf43>\u001b[0m in \u001b[0;36m<module>\u001b[0;34m\u001b[0m\n\u001b[1;32m     20\u001b[0m \u001b[0;32mfor\u001b[0m \u001b[0mcandidate\u001b[0m \u001b[0;32min\u001b[0m \u001b[0mbits_to_bytearray\u001b[0m\u001b[0;34m(\u001b[0m\u001b[0mbits\u001b[0m\u001b[0;34m)\u001b[0m\u001b[0;34m.\u001b[0m\u001b[0msplit\u001b[0m\u001b[0;34m(\u001b[0m\u001b[0;34mb'\\x00\\x00\\x00\\x00'\u001b[0m\u001b[0;34m)\u001b[0m\u001b[0;34m:\u001b[0m\u001b[0;34m\u001b[0m\u001b[0;34m\u001b[0m\u001b[0m\n\u001b[1;32m     21\u001b[0m \u001b[0;31m#     candidate = bytearray_to_text(bytearray(candidate))\u001b[0m\u001b[0;34m\u001b[0m\u001b[0;34m\u001b[0m\u001b[0;34m\u001b[0m\u001b[0m\n\u001b[0;32m---> 22\u001b[0;31m     \u001b[0mtext\u001b[0m \u001b[0;34m=\u001b[0m \u001b[0mrs\u001b[0m\u001b[0;34m.\u001b[0m\u001b[0mdecode\u001b[0m\u001b[0;34m(\u001b[0m\u001b[0mbytearray\u001b[0m\u001b[0;34m(\u001b[0m\u001b[0mcandidate\u001b[0m\u001b[0;34m)\u001b[0m\u001b[0;34m)\u001b[0m\u001b[0;34m\u001b[0m\u001b[0;34m\u001b[0m\u001b[0m\n\u001b[0m\u001b[1;32m     23\u001b[0m     \u001b[0mprint\u001b[0m\u001b[0;34m(\u001b[0m\u001b[0mtext\u001b[0m\u001b[0;34m)\u001b[0m\u001b[0;34m\u001b[0m\u001b[0;34m\u001b[0m\u001b[0m\n\u001b[1;32m     24\u001b[0m     \u001b[0;32mbreak\u001b[0m\u001b[0;34m\u001b[0m\u001b[0;34m\u001b[0m\u001b[0m\n",
      "\u001b[0;32m~/miniconda3/envs/myenvi/lib/python3.6/site-packages/reedsolo.py\u001b[0m in \u001b[0;36mdecode\u001b[0;34m(self, data)\u001b[0m\n\u001b[1;32m    249\u001b[0m         \u001b[0;32mfor\u001b[0m \u001b[0mi\u001b[0m \u001b[0;32min\u001b[0m \u001b[0mrange\u001b[0m\u001b[0;34m(\u001b[0m\u001b[0;36m0\u001b[0m\u001b[0;34m,\u001b[0m \u001b[0mlen\u001b[0m\u001b[0;34m(\u001b[0m\u001b[0mdata\u001b[0m\u001b[0;34m)\u001b[0m\u001b[0;34m,\u001b[0m \u001b[0;36m255\u001b[0m\u001b[0;34m)\u001b[0m\u001b[0;34m:\u001b[0m\u001b[0;34m\u001b[0m\u001b[0;34m\u001b[0m\u001b[0m\n\u001b[1;32m    250\u001b[0m             \u001b[0mchunk\u001b[0m \u001b[0;34m=\u001b[0m \u001b[0mdata\u001b[0m\u001b[0;34m[\u001b[0m\u001b[0mi\u001b[0m\u001b[0;34m:\u001b[0m\u001b[0mi\u001b[0m\u001b[0;34m+\u001b[0m\u001b[0;36m255\u001b[0m\u001b[0;34m]\u001b[0m\u001b[0;34m\u001b[0m\u001b[0;34m\u001b[0m\u001b[0m\n\u001b[0;32m--> 251\u001b[0;31m             \u001b[0mdec\u001b[0m\u001b[0;34m.\u001b[0m\u001b[0mextend\u001b[0m\u001b[0;34m(\u001b[0m\u001b[0mrs_correct_msg\u001b[0m\u001b[0;34m(\u001b[0m\u001b[0mchunk\u001b[0m\u001b[0;34m,\u001b[0m \u001b[0mself\u001b[0m\u001b[0;34m.\u001b[0m\u001b[0mnsym\u001b[0m\u001b[0;34m)\u001b[0m\u001b[0;34m)\u001b[0m\u001b[0;34m\u001b[0m\u001b[0;34m\u001b[0m\u001b[0m\n\u001b[0m\u001b[1;32m    252\u001b[0m         \u001b[0;32mreturn\u001b[0m \u001b[0mdec\u001b[0m\u001b[0;34m\u001b[0m\u001b[0;34m\u001b[0m\u001b[0m\n\u001b[1;32m    253\u001b[0m \u001b[0;34m\u001b[0m\u001b[0m\n",
      "\u001b[0;32m~/miniconda3/envs/myenvi/lib/python3.6/site-packages/reedsolo.py\u001b[0m in \u001b[0;36mrs_correct_msg\u001b[0;34m(msg_in, nsym)\u001b[0m\n\u001b[1;32m    211\u001b[0m     \u001b[0merr_pos\u001b[0m \u001b[0;34m=\u001b[0m \u001b[0mrs_find_errors\u001b[0m\u001b[0;34m(\u001b[0m\u001b[0mfsynd\u001b[0m\u001b[0;34m,\u001b[0m \u001b[0mlen\u001b[0m\u001b[0;34m(\u001b[0m\u001b[0mmsg_out\u001b[0m\u001b[0;34m)\u001b[0m\u001b[0;34m)\u001b[0m\u001b[0;34m\u001b[0m\u001b[0;34m\u001b[0m\u001b[0m\n\u001b[1;32m    212\u001b[0m     \u001b[0;32mif\u001b[0m \u001b[0merr_pos\u001b[0m \u001b[0;32mis\u001b[0m \u001b[0;32mNone\u001b[0m\u001b[0;34m:\u001b[0m\u001b[0;34m\u001b[0m\u001b[0;34m\u001b[0m\u001b[0m\n\u001b[0;32m--> 213\u001b[0;31m         \u001b[0;32mraise\u001b[0m \u001b[0mReedSolomonError\u001b[0m\u001b[0;34m(\u001b[0m\u001b[0;34m\"Could not locate error\"\u001b[0m\u001b[0;34m)\u001b[0m\u001b[0;34m\u001b[0m\u001b[0;34m\u001b[0m\u001b[0m\n\u001b[0m\u001b[1;32m    214\u001b[0m     \u001b[0mrs_correct_errata\u001b[0m\u001b[0;34m(\u001b[0m\u001b[0mmsg_out\u001b[0m\u001b[0;34m,\u001b[0m \u001b[0msynd\u001b[0m\u001b[0;34m,\u001b[0m \u001b[0merase_pos\u001b[0m \u001b[0;34m+\u001b[0m \u001b[0merr_pos\u001b[0m\u001b[0;34m)\u001b[0m\u001b[0;34m\u001b[0m\u001b[0;34m\u001b[0m\u001b[0m\n\u001b[1;32m    215\u001b[0m     \u001b[0msynd\u001b[0m \u001b[0;34m=\u001b[0m \u001b[0mrs_calc_syndromes\u001b[0m\u001b[0;34m(\u001b[0m\u001b[0mmsg_out\u001b[0m\u001b[0;34m,\u001b[0m \u001b[0mnsym\u001b[0m\u001b[0;34m)\u001b[0m\u001b[0;34m\u001b[0m\u001b[0;34m\u001b[0m\u001b[0m\n",
      "\u001b[0;31mReedSolomonError\u001b[0m: Could not locate error"
     ]
    }
   ],
   "source": [
    "from reedsolo import RSCodec\n",
    "from imageio import imread, imwrite\n",
    "import torch\n",
    "from collections import Counter\n",
    "from steganogan.utils import bits_to_bytearray, bytearray_to_text, ssim, text_to_bits\n",
    "\n",
    "rs = RSCodec(250)\n",
    "image = 'alaska2-image-steganalysis/SteganoGAN_Attk/00742_MIFGSM.png'\n",
    "\n",
    "if not os.path.exists(image):\n",
    "    raise ValueError('Unable to read %s.' % image)\n",
    "    \n",
    "image = imread(image, pilmode='RGB') / 255.0\n",
    "image = torch.FloatTensor(image).permute(2, 1, 0).unsqueeze(0)\n",
    "image = image.to(torch.device('cuda'))\n",
    "\n",
    "image = steganogan.decoder(image).view(-1) > 0\n",
    "candidates = Counter()\n",
    "bits = image.data.cpu().numpy().tolist()\n",
    "for candidate in bits_to_bytearray(bits).split(b'\\x00\\x00\\x00\\x00'):\n",
    "#     candidate = bytearray_to_text(bytearray(candidate))\n",
    "    text = rs.decode(bytearray(candidate))\n",
    "    print(text)\n",
    "    break"
   ]
  }
 ],
 "metadata": {
  "kernelspec": {
   "display_name": "Python 3",
   "language": "python",
   "name": "python3"
  },
  "language_info": {
   "codemirror_mode": {
    "name": "ipython",
    "version": 3
   },
   "file_extension": ".py",
   "mimetype": "text/x-python",
   "name": "python",
   "nbconvert_exporter": "python",
   "pygments_lexer": "ipython3",
   "version": "3.6.12"
  }
 },
 "nbformat": 4,
 "nbformat_minor": 4
}
